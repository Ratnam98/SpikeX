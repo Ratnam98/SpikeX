{
 "cells": [
  {
   "cell_type": "code",
   "execution_count": null,
   "metadata": {
    "id": "gwYjjMU0eh50"
   },
   "outputs": [],
   "source": [
    "!pip install spikex"
   ]
  },
  {
   "cell_type": "code",
   "execution_count": null,
   "metadata": {
    "id": "UttpFeHkmYt8"
   },
   "outputs": [],
   "source": [
    "!pip install spacy"
   ]
  },
  {
   "cell_type": "code",
   "execution_count": null,
   "metadata": {
    "id": "ycCV9lTwmoOc"
   },
   "outputs": [],
   "source": [
    "import spikex\n",
    "import spacy"
   ]
  },
  {
   "cell_type": "code",
   "execution_count": null,
   "metadata": {
    "id": "Yqrobaq-s78n"
   },
   "outputs": [],
   "source": [
    "!spikex download-wikigraph enwiki_core"
   ]
  },
  {
   "cell_type": "code",
   "execution_count": null,
   "metadata": {
    "id": "Vsk3LxkJu962"
   },
   "outputs": [],
   "source": [
    "!spacy download en_core_web_sm"
   ]
  },
  {
   "cell_type": "code",
   "execution_count": null,
   "metadata": {
    "id": "3H4m26oK3zkH"
   },
   "outputs": [],
   "source": [
    "from spacy import load as spacy_load\n",
    "from spikex.wikigraph import load as wg_load\n",
    "from spikex.pipes import WikiPageX\n",
    "wg = wg_load(\"enwiki_core\")"
   ]
  },
  {
   "cell_type": "code",
   "execution_count": null,
   "metadata": {
    "colab": {
     "base_uri": "https://localhost:8080/"
    },
    "id": "u-_NWQwX4HLu",
    "outputId": "feb86de4-5701-4e73-d869-b34543305926"
   },
   "outputs": [
    {
     "name": "stdout",
     "output_type": "stream",
     "text": [
      "Collecting spacypdfreader\n",
      "  Downloading spacypdfreader-0.2.1-py3-none-any.whl (9.4 kB)\n",
      "Requirement already satisfied: spacy<4.0.0,>=3.0.0 in /usr/local/lib/python3.7/dist-packages (from spacypdfreader) (3.2.2)\n",
      "Collecting rich<11.0.0,>=10.15.2\n",
      "  Downloading rich-10.16.2-py3-none-any.whl (214 kB)\n",
      "\u001b[K     |████████████████████████████████| 214 kB 12.7 MB/s \n",
      "\u001b[?25hCollecting pdfminer.six<20211013,>=20211012\n",
      "  Downloading pdfminer.six-20211012-py3-none-any.whl (5.6 MB)\n",
      "\u001b[K     |████████████████████████████████| 5.6 MB 68.1 MB/s \n",
      "\u001b[?25hRequirement already satisfied: chardet in /usr/local/lib/python3.7/dist-packages (from pdfminer.six<20211013,>=20211012->spacypdfreader) (3.0.4)\n",
      "Collecting cryptography\n",
      "  Downloading cryptography-36.0.1-cp36-abi3-manylinux_2_24_x86_64.whl (3.6 MB)\n",
      "\u001b[K     |████████████████████████████████| 3.6 MB 36.3 MB/s \n",
      "\u001b[?25hCollecting commonmark<0.10.0,>=0.9.0\n",
      "  Downloading commonmark-0.9.1-py2.py3-none-any.whl (51 kB)\n",
      "\u001b[K     |████████████████████████████████| 51 kB 5.6 MB/s \n",
      "\u001b[?25hRequirement already satisfied: typing-extensions<5.0,>=3.7.4 in /usr/local/lib/python3.7/dist-packages (from rich<11.0.0,>=10.15.2->spacypdfreader) (3.10.0.2)\n",
      "Requirement already satisfied: pygments<3.0.0,>=2.6.0 in /usr/local/lib/python3.7/dist-packages (from rich<11.0.0,>=10.15.2->spacypdfreader) (2.6.1)\n",
      "Collecting colorama<0.5.0,>=0.4.0\n",
      "  Downloading colorama-0.4.4-py2.py3-none-any.whl (16 kB)\n",
      "Requirement already satisfied: setuptools in /usr/local/lib/python3.7/dist-packages (from spacy<4.0.0,>=3.0.0->spacypdfreader) (57.4.0)\n",
      "Requirement already satisfied: preshed<3.1.0,>=3.0.2 in /usr/local/lib/python3.7/dist-packages (from spacy<4.0.0,>=3.0.0->spacypdfreader) (3.0.6)\n",
      "Requirement already satisfied: spacy-loggers<2.0.0,>=1.0.0 in /usr/local/lib/python3.7/dist-packages (from spacy<4.0.0,>=3.0.0->spacypdfreader) (1.0.1)\n",
      "Requirement already satisfied: srsly<3.0.0,>=2.4.1 in /usr/local/lib/python3.7/dist-packages (from spacy<4.0.0,>=3.0.0->spacypdfreader) (2.4.2)\n",
      "Requirement already satisfied: pydantic!=1.8,!=1.8.1,<1.9.0,>=1.7.4 in /usr/local/lib/python3.7/dist-packages (from spacy<4.0.0,>=3.0.0->spacypdfreader) (1.8.2)\n",
      "Requirement already satisfied: langcodes<4.0.0,>=3.2.0 in /usr/local/lib/python3.7/dist-packages (from spacy<4.0.0,>=3.0.0->spacypdfreader) (3.3.0)\n",
      "Requirement already satisfied: typer<0.5.0,>=0.3.0 in /usr/local/lib/python3.7/dist-packages (from spacy<4.0.0,>=3.0.0->spacypdfreader) (0.4.0)\n",
      "Requirement already satisfied: thinc<8.1.0,>=8.0.12 in /usr/local/lib/python3.7/dist-packages (from spacy<4.0.0,>=3.0.0->spacypdfreader) (8.0.13)\n",
      "Requirement already satisfied: jinja2 in /usr/local/lib/python3.7/dist-packages (from spacy<4.0.0,>=3.0.0->spacypdfreader) (2.11.3)\n",
      "Requirement already satisfied: blis<0.8.0,>=0.4.0 in /usr/local/lib/python3.7/dist-packages (from spacy<4.0.0,>=3.0.0->spacypdfreader) (0.4.1)\n",
      "Requirement already satisfied: numpy>=1.15.0 in /usr/local/lib/python3.7/dist-packages (from spacy<4.0.0,>=3.0.0->spacypdfreader) (1.19.5)\n",
      "Requirement already satisfied: catalogue<2.1.0,>=2.0.6 in /usr/local/lib/python3.7/dist-packages (from spacy<4.0.0,>=3.0.0->spacypdfreader) (2.0.6)\n",
      "Requirement already satisfied: requests<3.0.0,>=2.13.0 in /usr/local/lib/python3.7/dist-packages (from spacy<4.0.0,>=3.0.0->spacypdfreader) (2.23.0)\n",
      "Requirement already satisfied: spacy-legacy<3.1.0,>=3.0.8 in /usr/local/lib/python3.7/dist-packages (from spacy<4.0.0,>=3.0.0->spacypdfreader) (3.0.8)\n",
      "Requirement already satisfied: pathy>=0.3.5 in /usr/local/lib/python3.7/dist-packages (from spacy<4.0.0,>=3.0.0->spacypdfreader) (0.6.1)\n",
      "Requirement already satisfied: murmurhash<1.1.0,>=0.28.0 in /usr/local/lib/python3.7/dist-packages (from spacy<4.0.0,>=3.0.0->spacypdfreader) (1.0.6)\n",
      "Requirement already satisfied: wasabi<1.1.0,>=0.8.1 in /usr/local/lib/python3.7/dist-packages (from spacy<4.0.0,>=3.0.0->spacypdfreader) (0.9.0)\n",
      "Requirement already satisfied: tqdm<5.0.0,>=4.38.0 in /usr/local/lib/python3.7/dist-packages (from spacy<4.0.0,>=3.0.0->spacypdfreader) (4.62.3)\n",
      "Requirement already satisfied: packaging>=20.0 in /usr/local/lib/python3.7/dist-packages (from spacy<4.0.0,>=3.0.0->spacypdfreader) (21.3)\n",
      "Requirement already satisfied: cymem<2.1.0,>=2.0.2 in /usr/local/lib/python3.7/dist-packages (from spacy<4.0.0,>=3.0.0->spacypdfreader) (2.0.6)\n",
      "Requirement already satisfied: zipp>=0.5 in /usr/local/lib/python3.7/dist-packages (from catalogue<2.1.0,>=2.0.6->spacy<4.0.0,>=3.0.0->spacypdfreader) (3.7.0)\n",
      "Requirement already satisfied: pyparsing!=3.0.5,>=2.0.2 in /usr/local/lib/python3.7/dist-packages (from packaging>=20.0->spacy<4.0.0,>=3.0.0->spacypdfreader) (3.0.7)\n",
      "Requirement already satisfied: smart-open<6.0.0,>=5.0.0 in /usr/local/lib/python3.7/dist-packages (from pathy>=0.3.5->spacy<4.0.0,>=3.0.0->spacypdfreader) (5.2.1)\n",
      "Requirement already satisfied: idna<3,>=2.5 in /usr/local/lib/python3.7/dist-packages (from requests<3.0.0,>=2.13.0->spacy<4.0.0,>=3.0.0->spacypdfreader) (2.10)\n",
      "Requirement already satisfied: urllib3!=1.25.0,!=1.25.1,<1.26,>=1.21.1 in /usr/local/lib/python3.7/dist-packages (from requests<3.0.0,>=2.13.0->spacy<4.0.0,>=3.0.0->spacypdfreader) (1.24.3)\n",
      "Requirement already satisfied: certifi>=2017.4.17 in /usr/local/lib/python3.7/dist-packages (from requests<3.0.0,>=2.13.0->spacy<4.0.0,>=3.0.0->spacypdfreader) (2021.10.8)\n",
      "Requirement already satisfied: click<9.0.0,>=7.1.1 in /usr/local/lib/python3.7/dist-packages (from typer<0.5.0,>=0.3.0->spacy<4.0.0,>=3.0.0->spacypdfreader) (7.1.2)\n",
      "Requirement already satisfied: cffi>=1.12 in /usr/local/lib/python3.7/dist-packages (from cryptography->pdfminer.six<20211013,>=20211012->spacypdfreader) (1.15.0)\n",
      "Requirement already satisfied: pycparser in /usr/local/lib/python3.7/dist-packages (from cffi>=1.12->cryptography->pdfminer.six<20211013,>=20211012->spacypdfreader) (2.21)\n",
      "Requirement already satisfied: MarkupSafe>=0.23 in /usr/local/lib/python3.7/dist-packages (from jinja2->spacy<4.0.0,>=3.0.0->spacypdfreader) (2.0.1)\n",
      "Installing collected packages: cryptography, commonmark, colorama, rich, pdfminer.six, spacypdfreader\n",
      "Successfully installed colorama-0.4.4 commonmark-0.9.1 cryptography-36.0.1 pdfminer.six-20211012 rich-10.16.2 spacypdfreader-0.2.1\n"
     ]
    }
   ],
   "source": [
    "!pip install spacypdfreader"
   ]
  },
  {
   "cell_type": "code",
   "execution_count": null,
   "metadata": {
    "id": "Aw_xqAaT5Jyg"
   },
   "outputs": [],
   "source": [
    "from spacypdfreader import pdf_reader"
   ]
  },
  {
   "cell_type": "code",
   "execution_count": null,
   "metadata": {
    "id": "YyImXywU5Pcz"
   },
   "outputs": [],
   "source": [
    "nlp = spacy.load(\"en_core_web_sm\")"
   ]
  },
  {
   "cell_type": "code",
   "execution_count": null,
   "metadata": {
    "id": "REsOyQKi5TQY"
   },
   "outputs": [],
   "source": [
    "doc = pdf_reader(\"Doc2_Aman.pdf\", nlp)"
   ]
  },
  {
   "cell_type": "code",
   "execution_count": null,
   "metadata": {
    "id": "GtemKSPowwcw"
   },
   "outputs": [],
   "source": [
    "doc1 = pdf_reader(\"Doc1_Aman.pdf\", nlp)"
   ]
  },
  {
   "cell_type": "code",
   "execution_count": null,
   "metadata": {
    "id": "XYw_H85v6hxK"
   },
   "outputs": [],
   "source": [
    "from collections import Counter"
   ]
  },
  {
   "cell_type": "code",
   "execution_count": null,
   "metadata": {
    "id": "dFulQoQi8v-k"
   },
   "outputs": [],
   "source": [
    "wikipagex = WikiPageX(wg)"
   ]
  },
  {
   "cell_type": "code",
   "execution_count": null,
   "metadata": {
    "colab": {
     "base_uri": "https://localhost:8080/"
    },
    "id": "RyTBkFmC-079",
    "outputId": "3df8852f-2146-4275-9796-1ce634bc89d3"
   },
   "outputs": [
    {
     "name": "stdout",
     "output_type": "stream",
     "text": [
      "----\n",
      "----\n",
      "\t Companies_based_in_Bangalore -> 3\n",
      "\t Economy_of_Bangalore -> 3\n",
      "\t Online_food_ordering -> 3\n",
      "----\n",
      "----\n",
      "\t Market_(economics) -> 1\n",
      "\t Money -> 1\n",
      "\t Economic_law -> 1\n",
      "\t Financial_law -> 1\n",
      "\t Corporate_governance -> 1\n",
      "\t Payments -> 1\n",
      "\t Business_law -> 1\n",
      "\t Corporate_law -> 1\n",
      "\t Economic_crises -> 1\n",
      "\t Economic_bubbles -> 1\n",
      "\t Financial_crises -> 1\n",
      "\t Crowds -> 1\n",
      "\t History_of_the_Internet -> 1\n",
      "\t Economic_booms -> 1\n",
      "\t Information_technology_management -> 1\n",
      "\t Stock_market_crashes -> 1\n",
      "\t Web_1.0 -> 1\n",
      "\t Stock_market -> 1\n",
      "\t Dot-com_bubble -> 1\n",
      "----\n",
      "\t Companies_based_in_Bangalore -> 2\n",
      "\t Economy_of_Bangalore -> 2\n",
      "\t Online_food_ordering -> 2\n",
      "\t Aditya_Birla_Group -> 1\n",
      "\t Birla_family -> 1\n",
      "\t Department_for_International_Development -> 1\n",
      "----\n",
      "\t Companies_based_in_Bangalore -> 2\n",
      "\t Economy_of_Bangalore -> 2\n",
      "\t Online_food_ordering -> 2\n",
      "\t Integers -> 1\n",
      "\t Elementary_number_theory -> 1\n",
      "\t Rational_numbers -> 1\n",
      "\t Elementary_mathematics -> 1\n",
      "\t Numbers -> 1\n",
      "\t Ring_theory -> 1\n",
      "\t Algebraic_number_theory -> 1\n",
      "----\n",
      "\t Companies_based_in_Bangalore -> 2\n",
      "\t Economy_of_Bangalore -> 2\n",
      "\t Online_food_ordering -> 2\n",
      "----\n",
      "\t Companies_based_in_Bangalore -> 1\n",
      "\t Economy_of_Bangalore -> 1\n",
      "\t Online_food_ordering -> 1\n",
      "----\n"
     ]
    }
   ],
   "source": [
    "topics = Counter()\n",
    "\n",
    "for sent in doc.sents:\n",
    "\n",
    "  topics = Counter()\n",
    "  sent = nlp(sent.text)\n",
    "  sent = wikipagex(sent)\n",
    "\n",
    "  #print(sent)\n",
    "  #print('Topics in the sentence:')\n",
    "  for span in sent._.wiki_spans:\n",
    "    if (\n",
    "        len(span._.wiki_pages) > 1 \n",
    "        \n",
    "    ):\n",
    "      continue\n",
    "    topics.update(wg.get_categories(span._.wiki_pages[0], distance=2))\n",
    "  for topic, count in topics.most_common():\n",
    "    print('\\t',topic.replace('Category:',''), \"->\", count)\n",
    "    #plt.plot(Category,count)\n",
    "  print('----')\n"
   ]
  },
  {
   "cell_type": "code",
   "execution_count": null,
   "metadata": {
    "id": "fHfiyQ2CvqkG"
   },
   "outputs": [],
   "source": [
    "# Most common categories are 1).Companies_based_in_Bangalore 2).Economy_of_Bangalore 3).Online_food_ordering"
   ]
  },
  {
   "cell_type": "code",
   "execution_count": null,
   "metadata": {
    "colab": {
     "base_uri": "https://localhost:8080/"
    },
    "id": "6Px6syPNw0a2",
    "outputId": "db17da24-e0d5-48df-e2d0-e3af823e1aa1"
   },
   "outputs": [
    {
     "name": "stdout",
     "output_type": "stream",
     "text": [
      "\t 2009_albums -> 1\n",
      "----\n",
      "----\n",
      "\t Political_parties_in_Venezuela -> 1\n",
      "----\n",
      "----\n",
      "----\n",
      "\t Big_data -> 1\n",
      "\t Data_management -> 1\n",
      "\t Transaction_processing -> 1\n",
      "\t Hillary_Clinton_2016_presidential_campaign -> 1\n",
      "\t Technology_forecasting -> 1\n",
      "\t Space_advocacy -> 1\n",
      "\t Spaceflight -> 1\n",
      "----\n",
      "----\n",
      "\t Astronautics -> 1\n",
      "\t Spacecraft -> 1\n",
      "\t Pressure_vessels -> 1\n",
      "\t Ammunition -> 1\n",
      "\t Ballistics -> 1\n",
      "\t Propellants -> 1\n",
      "\t Pyrotechnics -> 1\n",
      "\t Industrial_gases -> 1\n",
      "----\n",
      "\t Orbit_of_the_Moon -> 1\n",
      "\t Moon -> 1\n",
      "----\n",
      "\t Navigation -> 1\n",
      "----\n",
      "----\n",
      "----\n",
      "\t Integers -> 1\n",
      "----\n",
      "----\n",
      "----\n",
      "----\n",
      "----\n"
     ]
    }
   ],
   "source": [
    "topics = Counter()\n",
    "\n",
    "for sent in doc1.sents:\n",
    "\n",
    "  topics = Counter()\n",
    "  sent = nlp(sent.text)\n",
    "  sent = wikipagex(sent)\n",
    "\n",
    "  #print(sent)\n",
    "  #print('Topics in the sentence:')\n",
    "  for span in sent._.wiki_spans:\n",
    "    if (\n",
    "        len(span._.wiki_pages) > 1 \n",
    "        \n",
    "    ):\n",
    "      continue\n",
    "    topics.update(wg.get_categories(span._.wiki_pages[0], distance=1))\n",
    "  for topic, count in topics.most_common():\n",
    "    print('\\t',topic.replace('Category:',''), \"->\", count)\n",
    "    #plt.plot(count,topic)\n",
    "  print('----')"
   ]
  },
  {
   "cell_type": "code",
   "execution_count": null,
   "metadata": {
    "id": "aOUcoIyvv_O3"
   },
   "outputs": [],
   "source": [
    "#Most common categories are 1).Spacecraft 2).Moon 3).Astronautics"
   ]
  }
 ],
 "metadata": {
  "colab": {
   "collapsed_sections": [],
   "name": "Spikex_Rajani.ipynb",
   "provenance": []
  },
  "kernelspec": {
   "display_name": "Python 3 (ipykernel)",
   "language": "python",
   "name": "python3"
  },
  "language_info": {
   "codemirror_mode": {
    "name": "ipython",
    "version": 3
   },
   "file_extension": ".py",
   "mimetype": "text/x-python",
   "name": "python",
   "nbconvert_exporter": "python",
   "pygments_lexer": "ipython3",
   "version": "3.9.7"
  }
 },
 "nbformat": 4,
 "nbformat_minor": 1
}
